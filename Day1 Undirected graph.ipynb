{
 "cells": [
  {
   "cell_type": "code",
   "execution_count": 100,
   "id": "3b920eeb",
   "metadata": {},
   "outputs": [],
   "source": [
    "import networkx as nx\n",
    "G = nx.Graph()\n",
    "V={'Hubei', 'Hunan', 'Jiangxi','Guangxi'}\n",
    "E=[{'Hubei', 'Hunan'},{'Hubei','Jiangxi'},{'Hunan', 'Jiangxi'},{'Hunan','Guangxi'}]\n",
    "G.add_nodes_from(V)\n",
    "G.add_edges_from(E)\n",
    "\n"
   ]
  },
  {
   "cell_type": "code",
   "execution_count": 97,
   "id": "4809ebb5",
   "metadata": {},
   "outputs": [],
   "source": [
    "def draw_graph(G, nodes_position, plot_weight):\n",
    "    nx.draw(G, nodes_position, with_labels=True, font_size=16, node_size=300, edge_color='Green', arrowsize=30)\n",
    "    if plot_weight:\n",
    "        edge_labels=nx.get_edge_attributes(G,'weight')\n",
    "    nx.draw_networkx_edge_labels(G, nodes_position, edge_labels=edge_labels)\n",
    "\n",
    "nodes_position = {\"Hubei\": [0,0], \"Jiangxi\": [1,-0.5], \"Hunan\":[0,-1], \"Guangdong\": [0,-2], \"Guangxi\":[-1,-1.5], \"Fujian\":[1.5,-1.5]}\n"
   ]
  },
  {
   "cell_type": "code",
   "execution_count": 98,
   "id": "e829765f",
   "metadata": {},
   "outputs": [
    {
     "name": "stdout",
     "output_type": "stream",
     "text": [
      "V=['Hunan', 'Guangxi', 'Hubei', 'Fujian', 'Guangdong', 'Jiangxi']\n",
      "E=[('Hunan', 'Guangxi'), ('Hunan', 'Guangdong'), ('Guangxi', 'Guangdong'), ('Fujian', 'Guangdong'), ('Fujian', 'Jiangxi'), ('Guangdong', 'Jiangxi')]\n"
     ]
    }
   ],
   "source": [
    "print(f\"V={G.nodes}\")\n",
    "print(f\"E={G.edges}\")"
   ]
  },
  {
   "cell_type": "code",
   "execution_count": 102,
   "id": "ea24ceb4",
   "metadata": {},
   "outputs": [
    {
     "data": {
      "image/png": "[encoded data removed]",
      "text/plain": [
       "<Figure size 432x288 with 1 Axes>"
      ]
     },
     "metadata": {},
     "output_type": "display_data"
    }
   ],
   "source": [
    "draw_graph(G, nodes_position, True)"
   ]
  },
  {
   "cell_type": "code",
   "execution_count": 103,
   "id": "cfb29dff",
   "metadata": {},
   "outputs": [
    {
     "name": "stdout",
     "output_type": "stream",
     "text": [
      "Graph Order: 4\n"
     ]
    }
   ],
   "source": [
    "print(f\"Graph Order: {G.number_of_nodes()}\")"
   ]
  },
  {
   "cell_type": "code",
   "execution_count": 104,
   "id": "77079f85",
   "metadata": {},
   "outputs": [
    {
     "name": "stdout",
     "output_type": "stream",
     "text": [
      "Graph Size: 4\n"
     ]
    }
   ],
   "source": [
    "print(f\"Graph Size: {G.number_of_edges()}\")\n"
   ]
  },
  {
   "cell_type": "code",
   "execution_count": 105,
   "id": "7e70d6cb",
   "metadata": {},
   "outputs": [
    {
     "name": "stdout",
     "output_type": "stream",
     "text": [
      "Degree for nodes: {'Jiangxi': 2, 'Hunan': 3, 'Guangxi': 1, 'Hubei': 2}\n"
     ]
    }
   ],
   "source": [
    "print(f\"Degree for nodes: { {v: G.degree(v) for v in G.nodes}}\")"
   ]
  },
  {
   "cell_type": "code",
   "execution_count": 106,
   "id": "2b96d7f4",
   "metadata": {},
   "outputs": [
    {
     "name": "stdout",
     "output_type": "stream",
     "text": [
      "Neighbors for nodes: {'Jiangxi': ['Hubei', 'Hunan'], 'Hunan': ['Hubei', 'Jiangxi', 'Guangxi'], 'Guangxi': ['Hunan'], 'Hubei': ['Hunan', 'Jiangxi']}\n"
     ]
    }
   ],
   "source": [
    "print(f\"Neighbors for nodes: { {v: list(G.neighbors(v)) for v in G.nodes} }\")"
   ]
  },
  {
   "cell_type": "code",
   "execution_count": 107,
   "id": "1de58536",
   "metadata": {},
   "outputs": [
    {
     "name": "stdout",
     "output_type": "stream",
     "text": [
      "Hubei Nodes: ['Jiangxi', 'Hunan', 'Hubei']\n",
      "Hubei Edges: [('Jiangxi', 'Hubei'), ('Jiangxi', 'Hunan'), ('Hunan', 'Hubei')]\n"
     ]
    }
   ],
   "source": [
    "ego_graph_hubei = nx.ego_graph(G, \"Hubei\")\n",
    "print(f\"Hubei Nodes: {ego_graph_hubei.nodes}\")\n",
    "print(f\"Hubei Edges: {ego_graph_hubei.edges}\")"
   ]
  },
  {
   "cell_type": "code",
   "execution_count": 108,
   "id": "e263278a",
   "metadata": {},
   "outputs": [
    {
     "name": "stdout",
     "output_type": "stream",
     "text": [
      "V=['Jiangxi', 'Hunan', 'Guangxi', 'Hubei', 'Guangdong', 'Fujian']\n",
      "E=[('Jiangxi', 'Hubei'), ('Jiangxi', 'Hunan'), ('Jiangxi', 'Guangdong'), ('Jiangxi', 'Fujian'), ('Hunan', 'Hubei'), ('Hunan', 'Guangxi'), ('Hunan', 'Guangdong'), ('Guangxi', 'Guangdong'), ('Guangdong', 'Fujian')]\n"
     ]
    }
   ],
   "source": [
    "new_nodes = {'Guangdong', 'Fujian'}\n",
    "new_edges = [('Guangdong','Hunan'),('Guangdong','Jiangxi'),('Guangdong','Guangxi'),('Fujian','Guangdong'),('Fujian','Jiangxi')]\n",
    "G.add_nodes_from(new_nodes)\n",
    "G.add_edges_from(new_edges)\n",
    "print(f\"V={G.nodes}\")\n",
    "print(f\"E={G.edges}\")"
   ]
  },
  {
   "cell_type": "code",
   "execution_count": 109,
   "id": "425b2869",
   "metadata": {},
   "outputs": [
    {
     "data": {
      "image/png": "[encoded data removed]",
      "text/plain": [
       "<Figure size 432x288 with 1 Axes>"
      ]
     },
     "metadata": {},
     "output_type": "display_data"
    }
   ],
   "source": [
    "draw_graph(G, nodes_position, True)"
   ]
  },
  {
   "cell_type": "code",
   "execution_count": 111,
   "id": "90c78c5e",
   "metadata": {},
   "outputs": [
    {
     "name": "stdout",
     "output_type": "stream",
     "text": [
      "V=['Hunan', 'Guangxi', 'Hubei', 'Fujian']\n",
      "E=[('Hunan', 'Hubei'), ('Hunan', 'Guangxi')]\n"
     ]
    }
   ],
   "source": [
    "# remove nodes and edges\n",
    "node_remove ={'Guangdong','Jiangxi'}\n",
    "G.remove_nodes_from(node_remove)\n",
    "print(f\"V={G.nodes}\")\n",
    "print(f\"E={G.edges}\")"
   ]
  },
  {
   "cell_type": "code",
   "execution_count": 112,
   "id": "a78dc379",
   "metadata": {},
   "outputs": [
    {
     "name": "stdout",
     "output_type": "stream",
     "text": [
      "V=['Hunan', 'Guangxi', 'Hubei', 'Fujian']\n",
      "E=[('Hunan', 'Guangxi')]\n"
     ]
    }
   ],
   "source": [
    "edge_remove = [('Hubei', 'Hunan')]\n",
    "G.remove_edges_from(edge_remove)\n",
    "print(f\"V={G.nodes}\")\n",
    "print(f\"E={G.edges}\")"
   ]
  },
  {
   "cell_type": "code",
   "execution_count": 113,
   "id": "4b3c5f71",
   "metadata": {},
   "outputs": [
    {
     "data": {
      "image/png": "[encoded data removed]",
      "text/plain": [
       "<Figure size 432x288 with 1 Axes>"
      ]
     },
     "metadata": {},
     "output_type": "display_data"
    }
   ],
   "source": [
    "draw_graph(G, nodes_position, True)"
   ]
  }
 ],
 "metadata": {
  "kernelspec": {
   "display_name": "Python 3 (ipykernel)",
   "language": "python",
   "name": "python3"
  },
  "language_info": {
   "codemirror_mode": {
    "name": "ipython",
    "version": 3
   },
   "file_extension": ".py",
   "mimetype": "text/x-python",
   "name": "python",
   "nbconvert_exporter": "python",
   "pygments_lexer": "ipython3",
   "version": "3.9.5"
  }
 },
 "nbformat": 4,
 "nbformat_minor": 5
}
