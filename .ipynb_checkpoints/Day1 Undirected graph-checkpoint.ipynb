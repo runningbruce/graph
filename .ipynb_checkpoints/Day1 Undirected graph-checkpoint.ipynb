{
 "cells": [
  {
   "cell_type": "code",
   "execution_count": 41,
   "id": "3b920eeb",
   "metadata": {},
   "outputs": [],
   "source": [
    "import networkx as nx\n",
    "G = nx.Graph()\n",
    "V={'Hubei', 'Hunan', 'Jiangxi','Guangxi'}\n",
    "E=[{'Hubei', 'Hunan'},{'Hubei','Jiangxi'},{'Hunan', 'Jiangxi'},{'Hunan','Guangxi'}]\n",
    "G.add_nodes_from(V)\n",
    "G.add_edges_from(E)\n"
   ]
  },
  {
   "cell_type": "code",
   "execution_count": 42,
   "id": "e829765f",
   "metadata": {},
   "outputs": [
    {
     "name": "stdout",
     "output_type": "stream",
     "text": [
      "V=['Jiangxi', 'Hunan', 'Guangxi', 'Hubei']\n"
     ]
    }
   ],
   "source": [
    "print(f\"V={G.nodes}\")"
   ]
  },
  {
   "cell_type": "code",
   "execution_count": 43,
   "id": "8efd03a2",
   "metadata": {},
   "outputs": [
    {
     "name": "stdout",
     "output_type": "stream",
     "text": [
      "E=[('Jiangxi', 'Hubei'), ('Jiangxi', 'Hunan'), ('Hunan', 'Hubei'), ('Hunan', 'Guangxi')]\n"
     ]
    }
   ],
   "source": [
    "print(f\"E={G.edges}\")"
   ]
  },
  {
   "cell_type": "code",
   "execution_count": 44,
   "id": "cfb29dff",
   "metadata": {},
   "outputs": [
    {
     "name": "stdout",
     "output_type": "stream",
     "text": [
      "Graph Order: 4\n"
     ]
    }
   ],
   "source": [
    "print(f\"Graph Order: {G.number_of_nodes()}\")"
   ]
  },
  {
   "cell_type": "code",
   "execution_count": 45,
   "id": "77079f85",
   "metadata": {},
   "outputs": [
    {
     "name": "stdout",
     "output_type": "stream",
     "text": [
      "Graph Size: 4\n"
     ]
    }
   ],
   "source": [
    "print(f\"Graph Size: {G.number_of_edges()}\")\n"
   ]
  },
  {
   "cell_type": "code",
   "execution_count": 46,
   "id": "7e70d6cb",
   "metadata": {},
   "outputs": [
    {
     "name": "stdout",
     "output_type": "stream",
     "text": [
      "Degree for nodes: {'Jiangxi': 2, 'Hunan': 3, 'Guangxi': 1, 'Hubei': 2}\n"
     ]
    }
   ],
   "source": [
    "print(f\"Degree for nodes: { {v: G.degree(v) for v in G.nodes}}\")"
   ]
  },
  {
   "cell_type": "code",
   "execution_count": 47,
   "id": "2b96d7f4",
   "metadata": {},
   "outputs": [
    {
     "name": "stdout",
     "output_type": "stream",
     "text": [
      "Neighbors for nodes: {'Jiangxi': ['Hubei', 'Hunan'], 'Hunan': ['Hubei', 'Jiangxi', 'Guangxi'], 'Guangxi': ['Hunan'], 'Hubei': ['Hunan', 'Jiangxi']}\n"
     ]
    }
   ],
   "source": [
    "print(f\"Neighbors for nodes: { {v: list(G.neighbors(v)) for v in G.nodes} }\")"
   ]
  },
  {
   "cell_type": "code",
   "execution_count": 48,
   "id": "1de58536",
   "metadata": {},
   "outputs": [
    {
     "name": "stdout",
     "output_type": "stream",
     "text": [
      "Hubei Nodes: ['Jiangxi', 'Hunan', 'Hubei']\n",
      "Hubei Edges: [('Jiangxi', 'Hubei'), ('Jiangxi', 'Hunan'), ('Hunan', 'Hubei')]\n"
     ]
    }
   ],
   "source": [
    "ego_graph_hubei = nx.ego_graph(G, \"Hubei\")\n",
    "print(f\"Hubei Nodes: {ego_graph_hubei.nodes}\")\n",
    "print(f\"Hubei Edges: {ego_graph_hubei.edges}\")"
   ]
  },
  {
   "cell_type": "code",
   "execution_count": 49,
   "id": "e263278a",
   "metadata": {},
   "outputs": [
    {
     "name": "stdout",
     "output_type": "stream",
     "text": [
      "V=['Jiangxi', 'Hunan', 'Guangxi', 'Hubei', 'Guangdong', 'Fujian']\n",
      "E=[('Jiangxi', 'Hubei'), ('Jiangxi', 'Hunan'), ('Jiangxi', 'Guangdong'), ('Jiangxi', 'Fujian'), ('Hunan', 'Hubei'), ('Hunan', 'Guangxi'), ('Hunan', 'Guangdong'), ('Guangxi', 'Guangdong'), ('Guangdong', 'Fujian')]\n"
     ]
    }
   ],
   "source": [
    "new_nodes = {'Guangdong', 'Fujian'}\n",
    "new_edges = [('Guangdong','Hunan'),('Guangdong','Jiangxi'),('Guangdong','Guangxi'),('Fujian','Guangdong'),('Fujian','Jiangxi')]\n",
    "G.add_nodes_from(new_nodes)\n",
    "G.add_edges_from(new_edges)\n",
    "print(f\"V={G.nodes}\")\n",
    "print(f\"E={G.edges}\")"
   ]
  },
  {
   "cell_type": "code",
   "execution_count": 50,
   "id": "90c78c5e",
   "metadata": {},
   "outputs": [
    {
     "name": "stdout",
     "output_type": "stream",
     "text": [
      "V=['Hunan', 'Guangxi', 'Hubei', 'Fujian']\n",
      "E=[('Hunan', 'Hubei'), ('Hunan', 'Guangxi')]\n"
     ]
    }
   ],
   "source": [
    "# remove nodes and edges\n",
    "node_remove ={'Guangdong','Jiangxi'}\n",
    "G.remove_nodes_from(node_remove)\n",
    "print(f\"V={G.nodes}\")\n",
    "print(f\"E={G.edges}\")"
   ]
  },
  {
   "cell_type": "code",
   "execution_count": 51,
   "id": "a78dc379",
   "metadata": {},
   "outputs": [
    {
     "name": "stdout",
     "output_type": "stream",
     "text": [
      "V=['Hunan', 'Guangxi', 'Hubei', 'Fujian']\n",
      "E=[('Hunan', 'Guangxi')]\n"
     ]
    }
   ],
   "source": [
    "edge_remove = [('Hubei', 'Hunan')]\n",
    "G.remove_edges_from(edge_remove)\n",
    "print(f\"V={G.nodes}\")\n",
    "print(f\"E={G.edges}\")"
   ]
  }
 ],
 "metadata": {
  "kernelspec": {
   "display_name": "Python 3 (ipykernel)",
   "language": "python",
   "name": "python3"
  },
  "language_info": {
   "codemirror_mode": {
    "name": "ipython",
    "version": 3
   },
   "file_extension": ".py",
   "mimetype": "text/x-python",
   "name": "python",
   "nbconvert_exporter": "python",
   "pygments_lexer": "ipython3",
   "version": "3.9.5"
  }
 },
 "nbformat": 4,
 "nbformat_minor": 5
}
